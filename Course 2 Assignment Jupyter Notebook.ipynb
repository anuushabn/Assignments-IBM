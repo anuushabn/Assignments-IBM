{
    "cells": [
        {
            "metadata": {
                "collapsed": true
            },
            "cell_type": "markdown",
            "source": "# My Jupyter Notebook on IBM Watson Studio"
        },
        {
            "metadata": {},
            "cell_type": "markdown",
            "source": "**Naga Anusha Bommidi**\n<br>Data Scientist"
        },
        {
            "metadata": {},
            "cell_type": "markdown",
            "source": "*I am interested in Data Science because I enjoy working with data, finding insights, seeing patterns, creating models and predicting future preformance, which is almost magical.* "
        },
        {
            "metadata": {},
            "cell_type": "markdown",
            "source": "### The following code greets my peer reviewer."
        },
        {
            "metadata": {},
            "cell_type": "code",
            "source": "print(\"Hello peer, All the best in your Data Science journey.\")",
            "execution_count": 3,
            "outputs": [
                {
                    "output_type": "stream",
                    "text": "Hello peer, All the best in your Data Science journey.\n",
                    "name": "stdout"
                }
            ]
        },
        {
            "metadata": {},
            "cell_type": "markdown",
            "source": "#### Bulleted list\n* one\n* two\n* three\n* four\n* five\n\n***\nHere is Horizantal rule\n***\n\n#### Numbered list\n1. one\n2. two\n3. three\n4. four\n5. five\n\n#### Below is the hyperlink to IBM webiste\n <a href=\"https://www.ibm.com/in-en\" target=\"_blank\">IBM</a>\n\n#### Below is a table\n| True      | False |\n| ----------- | ----------- |\n| 1    | 0      |\n"
        },
        {
            "metadata": {},
            "cell_type": "code",
            "source": "",
            "execution_count": null,
            "outputs": []
        }
    ],
    "metadata": {
        "kernelspec": {
            "name": "python3",
            "display_name": "Python 3.10",
            "language": "python"
        },
        "language_info": {
            "name": "python",
            "version": "3.10.6",
            "mimetype": "text/x-python",
            "codemirror_mode": {
                "name": "ipython",
                "version": 3
            },
            "pygments_lexer": "ipython3",
            "nbconvert_exporter": "python",
            "file_extension": ".py"
        }
    },
    "nbformat": 4,
    "nbformat_minor": 1
}